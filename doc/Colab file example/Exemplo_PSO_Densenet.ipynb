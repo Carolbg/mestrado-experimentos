{
  "cells": [
    {
      "cell_type": "markdown",
      "metadata": {
        "id": "XudFLHoQ_xiQ"
      },
      "source": [
        "## **Setup dos experimentos**\n",
        "Execução PSO com a CNN Densenet\n",
        "\n",
        "Ordem dos parâmetros e valores padrão:\n",
        "\n",
        "iterations=10\n",
        "\n",
        "populationSize=10\n",
        "\n",
        "Cg=0.5\n",
        "\n",
        "isNumpy=False\n",
        "\n",
        "cnnType=1"
      ]
    },
    {
      "cell_type": "code",
      "execution_count": null,
      "metadata": {
        "id": "JolXl-Q2ACox"
      },
      "outputs": [],
      "source": [
        "!pip3 install torch torchvision"
      ]
    },
    {
      "cell_type": "code",
      "execution_count": null,
      "metadata": {
        "id": "uHGJ1PAOjiyV"
      },
      "outputs": [],
      "source": [
        "import torch\n",
        "torch.cuda.is_available()"
      ]
    },
    {
      "cell_type": "code",
      "execution_count": null,
      "metadata": {
        "id": "0lYbgA4jhDKB"
      },
      "outputs": [],
      "source": [
        "from google.colab import drive\n",
        "drive.mount(\"/content/gdrive\")"
      ]
    },
    {
      "cell_type": "code",
      "execution_count": null,
      "metadata": {
        "id": "JqaEq5DUdnq5"
      },
      "outputs": [],
      "source": [
        "from pso import *"
      ]
    },
    {
      "cell_type": "code",
      "execution_count": null,
      "metadata": {
        "id": "StsULEu6xMC8"
      },
      "outputs": [],
      "source": [
        "readData(False, 30)"
      ]
    },
    {
      "cell_type": "markdown",
      "metadata": {
        "id": "4NPy0X0ObXD9"
      },
      "source": [
        "**Config 1**"
      ]
    },
    {
      "cell_type": "code",
      "execution_count": null,
      "metadata": {
        "id": "Tdxog4N272l5"
      },
      "outputs": [],
      "source": [
        "#Densenet = 3\n",
        "swarm = PSO(10, 10, 0.5, 3)"
      ]
    },
    {
      "cell_type": "code",
      "execution_count": null,
      "metadata": {
        "id": "vce7nMbASMK0"
      },
      "outputs": [],
      "source": [
        "%%capture\n",
        "!zip /content/psoDensenetPlotsConfig1Run1.zip /content/plot*\n",
        "!zip /content/psoDensenetHistoryConfig1Run1.zip /content/history*\n",
        "!zip /content/psoDensenetResultsFinalTestConfig1Run1.zip /content/results_finalTestDataResul*"
      ]
    },
    {
      "cell_type": "code",
      "execution_count": null,
      "metadata": {
        "id": "Mhs2dw815OS5"
      },
      "outputs": [],
      "source": [
        "#Densenet = 3\n",
        "swarm = PSO(10, 10, 0.5, 3)"
      ]
    },
    {
      "cell_type": "code",
      "execution_count": null,
      "metadata": {
        "id": "rh1vfb2e5Qw-"
      },
      "outputs": [],
      "source": [
        "%%capture\n",
        "!zip /content/psoDensenetHistoryConfig1Run2.zip /content/history*\n",
        "!zip /content/psoDensenetPlotsConfig1Run2.zip /content/plot*\n",
        "!zip /content/psoDensenetResultsFinalTestConfig1Run2.zip /content/results_finalTestDataResul*"
      ]
    },
    {
      "cell_type": "code",
      "execution_count": null,
      "metadata": {
        "id": "udmOdqKj5Olf"
      },
      "outputs": [],
      "source": [
        "#Densenet = 3\n",
        "swarm = PSO(10, 10, 0.5, 3)"
      ]
    },
    {
      "cell_type": "code",
      "execution_count": null,
      "metadata": {
        "id": "TUnjk7Qu5Rh8"
      },
      "outputs": [],
      "source": [
        "%%capture\n",
        "!zip /content/psoDensenetHistoryConfig1Run3.zip /content/history*\n",
        "!zip /content/psoDensenetPlotsConfig1Run3.zip /content/plot*\n",
        "!zip /content/psoDensenetResultsFinalTestConfig1Run3.zip /content/results_finalTestDataResul*"
      ]
    },
    {
      "cell_type": "code",
      "execution_count": null,
      "metadata": {
        "id": "E9z5vO6z5Ow9"
      },
      "outputs": [],
      "source": [
        "#Densenet = 3\n",
        "swarm = PSO(10, 10, 0.5, 3)"
      ]
    },
    {
      "cell_type": "code",
      "execution_count": null,
      "metadata": {
        "id": "wx3kdeQN5SZQ"
      },
      "outputs": [],
      "source": [
        "%%capture\n",
        "!zip /content/psoDensenetHistoryConfig1Run4.zip /content/history*\n",
        "!zip /content/psoDensenetPlotsConfig1Run4zip /content/plot*\n",
        "!zip /content/psoDensenetResultsFinalTestConfig1Run4.zip /content/results_finalTestDataResul*"
      ]
    },
    {
      "cell_type": "code",
      "execution_count": null,
      "metadata": {
        "id": "LHE4xrMR5PnC"
      },
      "outputs": [],
      "source": [
        "#Densenet = 3\n",
        "swarm = PSO(10, 10, 0.5, 3)"
      ]
    },
    {
      "cell_type": "code",
      "execution_count": null,
      "metadata": {
        "id": "JgiOrhpX5TC2"
      },
      "outputs": [],
      "source": [
        "%%capture\n",
        "!zip /content/psoDensenetHistoryConfig1Run5.zip /content/history*\n",
        "!zip /content/psoDensenetPlotsConfig1Run5.zip /content/plot*\n",
        "!zip /content/psoDensenetResultsFinalTestConfig1Run5.zip /content/results_finalTestDataResul*"
      ]
    }
  ],
  "metadata": {
    "accelerator": "GPU",
    "colab": {
      "collapsed_sections": [],
      "machine_shape": "hm",
      "name": "Exemplo execução - PSO - Densenet",
      "provenance": []
    },
    "kernelspec": {
      "display_name": "Python 3.8.0 64-bit",
      "language": "python",
      "name": "python3"
    },
    "language_info": {
      "name": "python",
      "version": "3.8.0"
    },
    "vscode": {
      "interpreter": {
        "hash": "082e9a3bcad0a290d0001e938aa60b99250c6c2ef33a923c00b70f9826caf4b7"
      }
    }
  },
  "nbformat": 4,
  "nbformat_minor": 0
}
