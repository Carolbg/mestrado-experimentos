{
  "cells": [
    {
      "cell_type": "markdown",
      "metadata": {
        "id": "ElFDWPbD_OXU"
      },
      "source": [
        "## **Setup dos experimentos**\n",
        "Execução AG com a CNN Densenet\n",
        "\n",
        "Ordem dos parâmetros e valores padrão:\n",
        "\n",
        "tp=10\n",
        "\n",
        "tour=2\n",
        "\n",
        "tr=80\n",
        "\n",
        "numberIterations=10\n",
        "\n",
        "tm=40\n",
        "\n",
        "isNumpy=True\n",
        "\n",
        "cnnType=1"
      ]
    },
    {
      "cell_type": "code",
      "execution_count": null,
      "metadata": {
        "id": "rioZxadT_oYz"
      },
      "outputs": [],
      "source": [
        "!pip3 install torch torchvision"
      ]
    },
    {
      "cell_type": "code",
      "execution_count": null,
      "metadata": {
        "id": "uHGJ1PAOjiyV"
      },
      "outputs": [],
      "source": [
        "import torch\n",
        "torch.cuda.is_available()"
      ]
    },
    {
      "cell_type": "code",
      "execution_count": null,
      "metadata": {
        "id": "0lYbgA4jhDKB"
      },
      "outputs": [],
      "source": [
        " from google.colab import drive\n",
        "drive.mount(\"/content/gdrive\")"
      ]
    },
    {
      "cell_type": "code",
      "execution_count": null,
      "metadata": {
        "id": "JqaEq5DUdnq5"
      },
      "outputs": [],
      "source": [
        "from ag_main import *"
      ]
    },
    {
      "cell_type": "code",
      "execution_count": null,
      "metadata": {
        "id": "StsULEu6xMC8"
      },
      "outputs": [],
      "source": [
        "readData(False, 30)"
      ]
    },
    {
      "cell_type": "markdown",
      "metadata": {
        "id": "4NPy0X0ObXD9"
      },
      "source": [
        "**Config 1**"
      ]
    },
    {
      "cell_type": "code",
      "execution_count": null,
      "metadata": {
        "id": "Tdxog4N272l5"
      },
      "outputs": [],
      "source": [
        "population, populationFitness, model = main(20, 2, 80, 10, 40, False, 3)"
      ]
    },
    {
      "cell_type": "code",
      "execution_count": null,
      "metadata": {
        "id": "vce7nMbASMK0"
      },
      "outputs": [],
      "source": [
        "%%capture\n",
        "!zip /content/agDensenetFrontaisHistoryRun1.zip /content/history*\n",
        "!zip /content/agDensenetFrontaisPlotsRun1.zip /content/plot*"
      ]
    },
    {
      "cell_type": "code",
      "execution_count": null,
      "metadata": {
        "id": "PIVinOwhtLW_"
      },
      "outputs": [],
      "source": [
        "population, populationFitness, model = main(20, 2, 80, 10, 40, False, 3)"
      ]
    },
    {
      "cell_type": "code",
      "execution_count": null,
      "metadata": {
        "id": "nqqiDTCdtOPJ"
      },
      "outputs": [],
      "source": [
        "%%capture\n",
        "!zip /content/agDensenetFrontaisHistoryRun2.zip /content/history*\n",
        "!zip /content/agDensenetFrontaisPlotsRun2.zip /content/plot*"
      ]
    },
    {
      "cell_type": "code",
      "execution_count": null,
      "metadata": {
        "id": "LYzGMtzstLZ0"
      },
      "outputs": [],
      "source": [
        "population, populationFitness, model = main(20, 2, 80, 10, 40, False, 3)"
      ]
    },
    {
      "cell_type": "code",
      "execution_count": null,
      "metadata": {
        "id": "9inQQMNXtP59"
      },
      "outputs": [],
      "source": [
        "%%capture\n",
        "!zip /content/agDensenetFrontaisHistoryRun3.zip /content/history*\n",
        "!zip /content/agDensenetFrontaisPlotsRun3.zip /content/plot*"
      ]
    },
    {
      "cell_type": "code",
      "execution_count": null,
      "metadata": {
        "id": "AvBhZ__ztLl3"
      },
      "outputs": [],
      "source": [
        "population, populationFitness, model = main(20, 2, 80, 10, 40, False, 3)"
      ]
    },
    {
      "cell_type": "code",
      "execution_count": null,
      "metadata": {
        "id": "t2_GeR2RtRY7"
      },
      "outputs": [],
      "source": [
        "%%capture\n",
        "!zip /content/agDensenetFrontaisHistoryRun4.zip /content/history*\n",
        "!zip /content/agDensenetFrontaisPlotsRun4.zip /content/plot*"
      ]
    },
    {
      "cell_type": "code",
      "execution_count": null,
      "metadata": {
        "id": "UxK9OBS3tNEn"
      },
      "outputs": [],
      "source": [
        "population, populationFitness, model = main(20, 2, 80, 10, 40, False, 3)"
      ]
    },
    {
      "cell_type": "code",
      "execution_count": null,
      "metadata": {
        "id": "Ow8PRqdGtT6W"
      },
      "outputs": [],
      "source": [
        "%%capture\n",
        "!zip /content/agDensenetFrontaisHistoryRun5.zip /content/history*\n",
        "!zip /content/agDensenetFrontaisPlotsRun5.zip /content/plot*"
      ]
    },
    {
      "cell_type": "code",
      "execution_count": null,
      "metadata": {
        "id": "g-OpNQi2fWJA"
      },
      "outputs": [],
      "source": [
        "%%capture\n",
        "!zip /content/agDensenetFrontaisHistoryTestesPopulacaoConfig1.zip /content/agDensenetFrontaisHistory*\n",
        "!zip /content/agDensenetFrontaisPlotsTestesPopulacaoConfig1.zip /content/agDensenetFrontaisPlots*"
      ]
    },
    {
      "cell_type": "markdown",
      "metadata": {
        "id": "Fp9GjF4MWjxa"
      },
      "source": [
        "**Config 2**"
      ]
    },
    {
      "cell_type": "code",
      "execution_count": null,
      "metadata": {
        "id": "IVXrTlRYWjxa"
      },
      "outputs": [],
      "source": [
        "population, populationFitness, model = main(20, 2, 80, 10, 60, False, 3)"
      ]
    },
    {
      "cell_type": "code",
      "execution_count": null,
      "metadata": {
        "id": "XD45dmHuWjxb"
      },
      "outputs": [],
      "source": [
        "%%capture\n",
        "!zip /content/agDensenetFrontaisHistoryRun1Config2.zip /content/history*\n",
        "!zip /content/agDensenetFrontaisPlotsRun1Config2.zip /content/plot*"
      ]
    },
    {
      "cell_type": "code",
      "execution_count": null,
      "metadata": {
        "id": "3K2mT8PgWjxb"
      },
      "outputs": [],
      "source": [
        "population, populationFitness, model = main(20, 2, 80, 10, 60, False, 3)"
      ]
    },
    {
      "cell_type": "code",
      "execution_count": null,
      "metadata": {
        "id": "1cu7LSOoWjxb"
      },
      "outputs": [],
      "source": [
        "%%capture\n",
        "!zip /content/agDensenetFrontaisHistoryRun2Config2.zip /content/history*\n",
        "!zip /content/agDensenetFrontaisPlotsRun2Config2.zip /content/plot*"
      ]
    },
    {
      "cell_type": "code",
      "execution_count": null,
      "metadata": {
        "id": "8FMZKV0HWjxb"
      },
      "outputs": [],
      "source": [
        "population, populationFitness, model = main(20, 2, 80, 10, 60, False, 3)"
      ]
    },
    {
      "cell_type": "code",
      "execution_count": null,
      "metadata": {
        "id": "dBt8QLCCWjxb"
      },
      "outputs": [],
      "source": [
        "%%capture\n",
        "!zip /content/agDensenetFrontaisHistoryRun3Config2.zip /content/history*\n",
        "!zip /content/agDensenetFrontaisPlotsRun3Config2.zip /content/plot*"
      ]
    },
    {
      "cell_type": "code",
      "execution_count": null,
      "metadata": {
        "id": "uyMleyCQWjxc"
      },
      "outputs": [],
      "source": [
        "population, populationFitness, model = main(20, 2, 80, 10, 60, False, 3)"
      ]
    },
    {
      "cell_type": "code",
      "execution_count": null,
      "metadata": {
        "id": "wVt61OPLWjxc"
      },
      "outputs": [],
      "source": [
        "%%capture\n",
        "!zip /content/agDensenetFrontaisHistoryRun4Config2.zip /content/history*\n",
        "!zip /content/agDensenetFrontaisPlotsRun4Config2.zip /content/plot*"
      ]
    },
    {
      "cell_type": "code",
      "execution_count": null,
      "metadata": {
        "id": "vXAPQZ1NWjxc"
      },
      "outputs": [],
      "source": [
        "population, populationFitness, model = main(20, 2, 80, 10, 60, False, 3)"
      ]
    },
    {
      "cell_type": "code",
      "execution_count": null,
      "metadata": {
        "id": "IK9pydT6Wjxc"
      },
      "outputs": [],
      "source": [
        "%%capture\n",
        "!zip /content/agDensenetFrontaisHistoryRun5Config2.zip /content/history*\n",
        "!zip /content/agDensenetFrontaisPlotsRun5Config2.zip /content/plot*"
      ]
    },
    {
      "cell_type": "code",
      "execution_count": null,
      "metadata": {
        "id": "555vv1X4Wjxc"
      },
      "outputs": [],
      "source": [
        "%%capture\n",
        "!zip /content/agDensenetFrontaisHistoryTestesPopulacaoConfig2.zip /content/agDensenetFrontaisHistory*\n",
        "!zip /content/agDensenetFrontaisPlotsTestesPopulacaoConfig2.zip /content/zip /content/agDensenetFrontaisPlots*"
      ]
    },
    {
      "cell_type": "markdown",
      "metadata": {
        "id": "fz290gxlbKrl"
      },
      "source": [
        "**Config 3**"
      ]
    },
    {
      "cell_type": "code",
      "execution_count": null,
      "metadata": {
        "id": "EcmevFk1bqe5"
      },
      "outputs": [],
      "source": [
        "population, populationFitness, model = main(20, 2, 80, 10, 20, False, 3)"
      ]
    },
    {
      "cell_type": "code",
      "execution_count": null,
      "metadata": {
        "id": "D3bpLLgzbqe5"
      },
      "outputs": [],
      "source": [
        "%%capture\n",
        "!zip /content/agDensenetFrontaisHistoryRun1Config3.zip /content/history*\n",
        "!zip /content/agDensenetFrontaisPlotsRun1Config3.zip /content/plot*"
      ]
    },
    {
      "cell_type": "code",
      "execution_count": null,
      "metadata": {
        "id": "KmK6MLBObqe5"
      },
      "outputs": [],
      "source": [
        "population, populationFitness, model = main(20, 2, 80, 10, 20, False, 3)"
      ]
    },
    {
      "cell_type": "code",
      "execution_count": null,
      "metadata": {
        "id": "el6eyKlTbqe5"
      },
      "outputs": [],
      "source": [
        "%%capture\n",
        "!zip /content/agDensenetFrontaisHistoryRun2Config3.zip /content/history*\n",
        "!zip /content/agDensenetFrontaisPlotsRun2Config3.zip /content/plot*"
      ]
    },
    {
      "cell_type": "code",
      "execution_count": null,
      "metadata": {
        "id": "99aSOBMkbqe5"
      },
      "outputs": [],
      "source": [
        "population, populationFitness, model = main(20, 2, 80, 10, 20, False, 3)"
      ]
    },
    {
      "cell_type": "code",
      "execution_count": null,
      "metadata": {
        "id": "b43AI3CUbqe6"
      },
      "outputs": [],
      "source": [
        "%%capture\n",
        "!zip /content/agDensenetFrontaisHistoryRun3Config3.zip /content/history*\n",
        "!zip /content/agDensenetFrontaisPlotsRun3Config3.zip /content/plot*"
      ]
    },
    {
      "cell_type": "code",
      "execution_count": null,
      "metadata": {
        "id": "Y8O-BiNRbqe6"
      },
      "outputs": [],
      "source": [
        "population, populationFitness, model = main(20, 2, 80, 10, 20, False, 3)"
      ]
    },
    {
      "cell_type": "code",
      "execution_count": null,
      "metadata": {
        "id": "GFl2B5libqe6"
      },
      "outputs": [],
      "source": [
        "%%capture\n",
        "!zip /content/agDensenetFrontaisHistoryRun4Config3.zip /content/history*\n",
        "!zip /content/agDensenetFrontaisPlotsRun4Config3.zip /content/plot*"
      ]
    },
    {
      "cell_type": "code",
      "execution_count": null,
      "metadata": {
        "id": "t3dremFPbqe6"
      },
      "outputs": [],
      "source": [
        "population, populationFitness, model = main(20, 2, 80, 10, 20, False, 3)"
      ]
    },
    {
      "cell_type": "code",
      "execution_count": null,
      "metadata": {
        "id": "h8bz4KzDbqe6"
      },
      "outputs": [],
      "source": [
        "%%capture\n",
        "!zip /content/agDensenetFrontaisHistoryRun5Config3.zip /content/history*\n",
        "!zip /content/agDensenetFrontaisPlotsRun5Config3.zip /content/plot*"
      ]
    },
    {
      "cell_type": "code",
      "execution_count": null,
      "metadata": {
        "id": "AbTDaoMNX7r2"
      },
      "outputs": [],
      "source": [
        "%%capture\n",
        "!zip /content/agDensenetFrontaisHistoryTestesPopulacaoConfig3.zip /content/agDensenetFrontaisHistory*\n",
        "!zip /content/agDensenetFrontaisPlotsTestesPopulacaoConfig3.zip /content/agDensenetFrontaisPlots*"
      ]
    },
    {
      "cell_type": "markdown",
      "metadata": {
        "id": "mrPvD11Qbqe6"
      },
      "source": [
        "**Config 4**"
      ]
    },
    {
      "cell_type": "code",
      "execution_count": null,
      "metadata": {
        "id": "3BBV5rFzbqe7"
      },
      "outputs": [],
      "source": [
        "population, populationFitness, model = main(20, 2, 80, 10, 30, False, 3)"
      ]
    },
    {
      "cell_type": "code",
      "execution_count": null,
      "metadata": {
        "id": "HhLy41p7bqe7"
      },
      "outputs": [],
      "source": [
        "%%capture\n",
        "!zip /content/agDensenetFrontaisHistoryRun1Config4.zip /content/history*\n",
        "!zip /content/agDensenetFrontaisPlotsRun1Config4.zip /content/plot*"
      ]
    },
    {
      "cell_type": "code",
      "execution_count": null,
      "metadata": {
        "id": "5mvfa4-sbqe7"
      },
      "outputs": [],
      "source": [
        "population, populationFitness, model = main(20, 2, 80, 10, 30, False, 3)"
      ]
    },
    {
      "cell_type": "code",
      "execution_count": null,
      "metadata": {
        "id": "k_RUaSycbqe7"
      },
      "outputs": [],
      "source": [
        "%%capture\n",
        "!zip /content/agDensenetFrontaisHistoryRun2Config4.zip /content/history*\n",
        "!zip /content/agDensenetFrontaisPlotsRun2Config4.zip /content/plot*"
      ]
    },
    {
      "cell_type": "code",
      "execution_count": null,
      "metadata": {
        "id": "tEgi4qt1bqe7"
      },
      "outputs": [],
      "source": [
        "population, populationFitness, model = main(20, 2, 80, 10, 30, False, 3)"
      ]
    },
    {
      "cell_type": "code",
      "execution_count": null,
      "metadata": {
        "id": "fW033ZpGbqe8"
      },
      "outputs": [],
      "source": [
        "%%capture\n",
        "!zip /content/agDensenetFrontaisHistoryRun3Config4.zip /content/history*\n",
        "!zip /content/agDensenetFrontaisPlotsRun3Config4.zip /content/plot*"
      ]
    },
    {
      "cell_type": "code",
      "execution_count": null,
      "metadata": {
        "id": "XUDOO2vobqe8"
      },
      "outputs": [],
      "source": [
        "population, populationFitness, model = main(20, 2, 80, 10, 30, False, 3)"
      ]
    },
    {
      "cell_type": "code",
      "execution_count": null,
      "metadata": {
        "id": "BY8FLcFGbqe8"
      },
      "outputs": [],
      "source": [
        "%%capture\n",
        "!zip /content/agDensenetFrontaisHistoryRun4Config4.zip /content/history*\n",
        "!zip /content/agDensenetFrontaisPlotsRun4Config4.zip /content/plot*"
      ]
    },
    {
      "cell_type": "code",
      "execution_count": null,
      "metadata": {
        "id": "na6663tYbqe8"
      },
      "outputs": [],
      "source": [
        "population, populationFitness, model = main(20, 2, 80, 10, 30, False, 3)"
      ]
    },
    {
      "cell_type": "code",
      "execution_count": null,
      "metadata": {
        "id": "WXrxUu-Fbqe8"
      },
      "outputs": [],
      "source": [
        "%%capture\n",
        "!zip /content/agDensenetFrontaisHistoryRun5Config4.zip /content/history*\n",
        "!zip /content/agDensenetFrontaisPlotsRun5Config4.zip /content/plot*"
      ]
    },
    {
      "cell_type": "code",
      "execution_count": null,
      "metadata": {
        "id": "PgF6l3OpYbvD"
      },
      "outputs": [],
      "source": [
        "%%capture\n",
        "!zip /content/agDensenetFrontaisHistoryTestesPopulacaoConfig4.zip /content/agDensenetFrontaisHistory*\n",
        "!zip /content/agDensenetFrontaisPlotsTestesPopulacaoConfig4.zip /content/agDensenetFrontaisPlots*"
      ]
    }
  ],
  "metadata": {
    "accelerator": "GPU",
    "colab": {
      "collapsed_sections": [],
      "machine_shape": "hm",
      "name": "Exemplo execução - AG Densenet - frontais",
      "provenance": []
    },
    "kernelspec": {
      "display_name": "Python 3.8.0 64-bit",
      "language": "python",
      "name": "python3"
    },
    "language_info": {
      "name": "python",
      "version": "3.8.0"
    },
    "vscode": {
      "interpreter": {
        "hash": "082e9a3bcad0a290d0001e938aa60b99250c6c2ef33a923c00b70f9826caf4b7"
      }
    }
  },
  "nbformat": 4,
  "nbformat_minor": 0
}
