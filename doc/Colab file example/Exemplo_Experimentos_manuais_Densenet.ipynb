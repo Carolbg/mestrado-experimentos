{
  "nbformat": 4,
  "nbformat_minor": 0,
  "metadata": {
    "accelerator": "GPU",
    "colab": {
      "name": "Exemplo execução - Experimentos manuais - Densenet",
      "provenance": [],
      "collapsed_sections": []
    },
    "kernelspec": {
      "display_name": "Python 3",
      "name": "python3"
    }
  },
  "cells": [
    {
      "cell_type": "markdown",
      "metadata": {
        "id": "wUuNHwuv2mef"
      },
      "source": [
        "## **Setup dos experimentos**\n",
        "Execução Densenet - experimentos manuais\n",
        "\n",
        "LR -> tipo de learning rate, valores esperados 1 ou 2, onde 1 é 0.0001 e 2 0.001.\n",
        "\n",
        "experimentType -> tipo de arquitetura para a camada densamente conectada\n",
        "\n",
        "resultsPlotName -> nome que será utilizado para os arquivos de resultados"
      ]
    },
    {
      "cell_type": "code",
      "metadata": {
        "id": "StsHK26i2Nb-"
      },
      "source": [
        "!pip3 install torch torchvision"
      ],
      "execution_count": null,
      "outputs": []
    },
    {
      "cell_type": "code",
      "metadata": {
        "id": "uHGJ1PAOjiyV"
      },
      "source": [
        "import torch\n",
        "torch.cuda.is_available()"
      ],
      "execution_count": null,
      "outputs": []
    },
    {
      "cell_type": "code",
      "metadata": {
        "id": "ddVvxT9_K-cE"
      },
      "source": [
        "from google.colab import drive\n",
        "drive.mount(\"/content/gdrive\")"
      ],
      "execution_count": null,
      "outputs": []
    },
    {
      "cell_type": "code",
      "metadata": {
        "id": "JqaEq5DUdnq5"
      },
      "source": [
        "from mainDensenet import *"
      ],
      "execution_count": null,
      "outputs": []
    },
    {
      "cell_type": "code",
      "metadata": {
        "id": "rl52GB8MYIj3"
      },
      "source": [
        "resultsPlotName = 'manualDensenet_1camada_lr'\n",
        "experimentType = 1\n",
        "typeLR = 1\n",
        "model, history, historyTest, cmTrain, cmValidation, cmTest, trainLoader, testLoader, validationLoader, n_classes, cat_df  = mainDensenet(resultsPlotName, experimentType, False, typeLR, isNumpy=False)"
      ],
      "execution_count": null,
      "outputs": []
    },
    {
      "cell_type": "code",
      "metadata": {
        "id": "AAXZL4mfYOA3"
      },
      "source": [
        "resultsPlotName = 'manualDensenet_2camadas_256_lr'\n",
        "experimentType = 2\n",
        "typeLR = 1\n",
        "model, history, historyTest, cmTrain, cmValidation, cmTest, trainLoader, testLoader, validationLoader, n_classes, cat_df  = mainDensenet(resultsPlotName, experimentType, False, typeLR, isNumpy=False)"
      ],
      "execution_count": null,
      "outputs": []
    },
    {
      "cell_type": "code",
      "metadata": {
        "id": "yyMnrZtG71SJ"
      },
      "source": [
        "resultsPlotName = 'manualDensenet_2camadas_512_lr'\n",
        "experimentType = 3\n",
        "typeLR = 1\n",
        "model, history, historyTest, cmTrain, cmValidation, cmTest, trainLoader, testLoader, validationLoader, n_classes, cat_df  = mainDensenet(resultsPlotName, experimentType, False, typeLR, isNumpy=False)"
      ],
      "execution_count": null,
      "outputs": []
    },
    {
      "cell_type": "code",
      "metadata": {
        "id": "T7w844FY71XN"
      },
      "source": [
        "resultsPlotName = 'manualDensenet_2camadas_1024_lr'\n",
        "experimentType = 4\n",
        "typeLR = 1\n",
        "model, history, historyTest, cmTrain, cmValidation, cmTest, trainLoader, testLoader, validationLoader, n_classes, cat_df  = mainDensenet(resultsPlotName, experimentType, False, typeLR, isNumpy=False)"
      ],
      "execution_count": null,
      "outputs": []
    },
    {
      "cell_type": "code",
      "metadata": {
        "id": "o2V2axzW3NCt"
      },
      "source": [
        "resultsPlotName = 'manualDensenet_3camadas_ex6_comDropout_lr'\n",
        "experimentType = 6\n",
        "typeLR = 1\n",
        "model, history, historyTest, cmTrain, cmValidation, cmTest, trainLoader, testLoader, validationLoader, n_classes, cat_df  = mainDensenet(resultsPlotName, experimentType, False, typeLR, isNumpy=False)"
      ],
      "execution_count": null,
      "outputs": []
    },
    {
      "cell_type": "code",
      "metadata": {
        "id": "n22pTRGK3QBK"
      },
      "source": [
        "resultsPlotName = 'manualDensenet_3camadas_ex7_comDropout_lr'\n",
        "experimentType = 7\n",
        "typeLR = 1\n",
        "model, history, historyTest, cmTrain, cmValidation, cmTest, trainLoader, testLoader, validationLoader, n_classes, cat_df  = mainDensenet(resultsPlotName, experimentType, False, typeLR, isNumpy=False)"
      ],
      "execution_count": null,
      "outputs": []
    },
    {
      "cell_type": "code",
      "metadata": {
        "id": "K_cE3O33nwvw"
      },
      "source": [
        "%%capture\n",
        "!zip /content/xavier_resultsmanualDensenetFrontaisLR.zip /content/results_manualDensenet*\n",
        "!zip /content/xavier_plotsmanualDensenetFrontaisLR.zip /content/plot*"
      ],
      "execution_count": null,
      "outputs": []
    },
    {
      "cell_type": "code",
      "metadata": {
        "id": "JbZMHqlK71aZ"
      },
      "source": [
        "resultsPlotName = 'manualDensenet_1camada'\n",
        "experimentType = 1\n",
        "typeLR = 2\n",
        "model, history, historyTest, cmTrain, cmValidation, cmTest, trainLoader, testLoader, validationLoader, n_classes, cat_df  = mainDensenet(resultsPlotName, experimentType, False, typeLR, isNumpy=False)"
      ],
      "execution_count": null,
      "outputs": []
    },
    {
      "cell_type": "code",
      "metadata": {
        "id": "mMoUrT21914V"
      },
      "source": [
        "resultsPlotName = 'manualDensenet_2camadas_256'\n",
        "experimentType = 2\n",
        "typeLR = 2\n",
        "model, history, historyTest, cmTrain, cmValidation, cmTest, trainLoader, testLoader, validationLoader, n_classes, cat_df  = mainDensenet(resultsPlotName, experimentType, False, typeLR, isNumpy=False)"
      ],
      "execution_count": null,
      "outputs": []
    },
    {
      "cell_type": "code",
      "metadata": {
        "id": "YfWIWhSI911D"
      },
      "source": [
        "resultsPlotName = 'manualDensenet_2camadas_512'\n",
        "experimentType = 3\n",
        "typeLR = 2\n",
        "model, history, historyTest, cmTrain, cmValidation, cmTest, trainLoader, testLoader, validationLoader, n_classes, cat_df  = mainDensenet(resultsPlotName, experimentType, False, typeLR, isNumpy=False)"
      ],
      "execution_count": null,
      "outputs": []
    },
    {
      "cell_type": "code",
      "metadata": {
        "id": "u4CR7SHf91xS"
      },
      "source": [
        "resultsPlotName = 'manualDensenet_2camadas_1024'\n",
        "experimentType = 4\n",
        "typeLR = 2\n",
        "model, history, historyTest, cmTrain, cmValidation, cmTest, trainLoader, testLoader, validationLoader, n_classes, cat_df  = mainDensenet(resultsPlotName, experimentType, False, typeLR, isNumpy=False)"
      ],
      "execution_count": null,
      "outputs": []
    },
    {
      "cell_type": "code",
      "metadata": {
        "id": "NOm_kWRr12t7"
      },
      "source": [
        "resultsPlotName = 'manualDensenet_3camadas_ex6_comDropout'\n",
        "experimentType = 6\n",
        "typeLR = 2\n",
        "model, history, historyTest, cmTrain, cmValidation, cmTest, trainLoader, testLoader, validationLoader, n_classes, cat_df  = mainDensenet(resultsPlotName, experimentType, False, typeLR, isNumpy=False)"
      ],
      "execution_count": null,
      "outputs": []
    },
    {
      "cell_type": "code",
      "metadata": {
        "id": "1EFsXmYx128Y"
      },
      "source": [
        "resultsPlotName = 'manualDensenet_3camadas_ex7_comDropout'\n",
        "experimentType = 7\n",
        "typeLR = 2\n",
        "model, history, historyTest, cmTrain, cmValidation, cmTest, trainLoader, testLoader, validationLoader, n_classes, cat_df  = mainDensenet(resultsPlotName, experimentType, False, typeLR, isNumpy=False)"
      ],
      "execution_count": null,
      "outputs": []
    },
    {
      "cell_type": "code",
      "metadata": {
        "id": "jTijjfAl13Lb"
      },
      "source": [
        "%%capture\n",
        "!zip /content/xavier_resultsmanualDensenetFrontais.zip /content/results_manualDensenet*\n",
        "!zip /content/xavier_plotsmanualDensenetFrontais.zip /content/plot*"
      ],
      "execution_count": null,
      "outputs": []
    },
    {
      "cell_type": "code",
      "metadata": {
        "id": "CGKzFZ6upW6H"
      },
      "source": [
        "# rm -rf *.png"
      ],
      "execution_count": null,
      "outputs": []
    }
  ]
}