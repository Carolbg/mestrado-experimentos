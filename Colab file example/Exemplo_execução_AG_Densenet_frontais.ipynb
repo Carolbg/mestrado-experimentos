{
  "nbformat": 4,
  "nbformat_minor": 0,
  "metadata": {
    "accelerator": "GPU",
    "colab": {
      "name": "Exemplo execução - AG Densenet - frontais",
      "provenance": [],
      "collapsed_sections": [],
      "machine_shape": "hm"
    },
    "kernelspec": {
      "display_name": "Python 3",
      "name": "python3"
    }
  },
  "cells": [
    {
      "cell_type": "markdown",
      "metadata": {
        "id": "ElFDWPbD_OXU"
      },
      "source": [
        "## **Setup dos experimentos**\n",
        "Execução AG com a CNN Densenet\n",
        "\n",
        "Ordem dos parâmetros e valores padrão:\n",
        "\n",
        "tp=10\n",
        "\n",
        "tour=2\n",
        "\n",
        "tr=80\n",
        "\n",
        "numberIterations=10\n",
        "\n",
        "tm=40\n",
        "\n",
        "isNumpy=True\n",
        "\n",
        "cnnType=1"
      ]
    },
    {
      "cell_type": "code",
      "metadata": {
        "id": "rioZxadT_oYz"
      },
      "source": [
        "!pip3 install torch torchvision"
      ],
      "execution_count": null,
      "outputs": []
    },
    {
      "cell_type": "code",
      "metadata": {
        "id": "uHGJ1PAOjiyV"
      },
      "source": [
        "import torch\n",
        "torch.cuda.is_available()"
      ],
      "execution_count": null,
      "outputs": []
    },
    {
      "cell_type": "code",
      "metadata": {
        "id": "0lYbgA4jhDKB"
      },
      "source": [
        " from google.colab import drive\n",
        "drive.mount(\"/content/gdrive\")"
      ],
      "execution_count": null,
      "outputs": []
    },
    {
      "cell_type": "code",
      "metadata": {
        "id": "JqaEq5DUdnq5"
      },
      "source": [
        "from ag_main import *"
      ],
      "execution_count": null,
      "outputs": []
    },
    {
      "cell_type": "code",
      "metadata": {
        "id": "StsULEu6xMC8"
      },
      "source": [
        "readData(False, 30)"
      ],
      "execution_count": null,
      "outputs": []
    },
    {
      "cell_type": "markdown",
      "metadata": {
        "id": "4NPy0X0ObXD9"
      },
      "source": [
        "**Config 1**"
      ]
    },
    {
      "cell_type": "code",
      "metadata": {
        "id": "Tdxog4N272l5"
      },
      "source": [
        "population, populationFitness, model = main(20, 2, 80, 10, 40, False, 3)"
      ],
      "execution_count": null,
      "outputs": []
    },
    {
      "cell_type": "code",
      "metadata": {
        "id": "vce7nMbASMK0"
      },
      "source": [
        "%%capture\n",
        "!zip /content/agDensenetFrontaisHistoryRun1.zip /content/history*\n",
        "!zip /content/agDensenetFrontaisPlotsRun1.zip /content/plot*"
      ],
      "execution_count": null,
      "outputs": []
    },
    {
      "cell_type": "code",
      "metadata": {
        "id": "PIVinOwhtLW_"
      },
      "source": [
        "population, populationFitness, model = main(20, 2, 80, 10, 40, False, 3)"
      ],
      "execution_count": null,
      "outputs": []
    },
    {
      "cell_type": "code",
      "metadata": {
        "id": "nqqiDTCdtOPJ"
      },
      "source": [
        "%%capture\n",
        "!zip /content/agDensenetFrontaisHistoryRun2.zip /content/history*\n",
        "!zip /content/agDensenetFrontaisPlotsRun2.zip /content/plot*"
      ],
      "execution_count": null,
      "outputs": []
    },
    {
      "cell_type": "code",
      "metadata": {
        "id": "LYzGMtzstLZ0"
      },
      "source": [
        "population, populationFitness, model = main(20, 2, 80, 10, 40, False, 3)"
      ],
      "execution_count": null,
      "outputs": []
    },
    {
      "cell_type": "code",
      "metadata": {
        "id": "9inQQMNXtP59"
      },
      "source": [
        "%%capture\n",
        "!zip /content/agDensenetFrontaisHistoryRun3.zip /content/history*\n",
        "!zip /content/agDensenetFrontaisPlotsRun3.zip /content/plot*"
      ],
      "execution_count": null,
      "outputs": []
    },
    {
      "cell_type": "code",
      "metadata": {
        "id": "AvBhZ__ztLl3"
      },
      "source": [
        "population, populationFitness, model = main(20, 2, 80, 10, 40, False, 3)"
      ],
      "execution_count": null,
      "outputs": []
    },
    {
      "cell_type": "code",
      "metadata": {
        "id": "t2_GeR2RtRY7"
      },
      "source": [
        "%%capture\n",
        "!zip /content/agDensenetFrontaisHistoryRun4.zip /content/history*\n",
        "!zip /content/agDensenetFrontaisPlotsRun4.zip /content/plot*"
      ],
      "execution_count": null,
      "outputs": []
    },
    {
      "cell_type": "code",
      "metadata": {
        "id": "UxK9OBS3tNEn"
      },
      "source": [
        "population, populationFitness, model = main(20, 2, 80, 10, 40, False, 3)"
      ],
      "execution_count": null,
      "outputs": []
    },
    {
      "cell_type": "code",
      "metadata": {
        "id": "Ow8PRqdGtT6W"
      },
      "source": [
        "%%capture\n",
        "!zip /content/agDensenetFrontaisHistoryRun5.zip /content/history*\n",
        "!zip /content/agDensenetFrontaisPlotsRun5.zip /content/plot*"
      ],
      "execution_count": null,
      "outputs": []
    },
    {
      "cell_type": "code",
      "metadata": {
        "id": "g-OpNQi2fWJA"
      },
      "source": [
        "%%capture\n",
        "!zip /content/agDensenetFrontaisHistoryTestesPopulacaoConfig1.zip /content/agDensenetFrontaisHistory*\n",
        "!zip /content/agDensenetFrontaisPlotsTestesPopulacaoConfig1.zip /content/agDensenetFrontaisPlots*"
      ],
      "execution_count": null,
      "outputs": []
    },
    {
      "cell_type": "markdown",
      "metadata": {
        "id": "Fp9GjF4MWjxa"
      },
      "source": [
        "**Config 2**"
      ]
    },
    {
      "cell_type": "code",
      "metadata": {
        "id": "IVXrTlRYWjxa"
      },
      "source": [
        "population, populationFitness, model = main(20, 2, 80, 10, 60, False, 3)"
      ],
      "execution_count": null,
      "outputs": []
    },
    {
      "cell_type": "code",
      "metadata": {
        "id": "XD45dmHuWjxb"
      },
      "source": [
        "%%capture\n",
        "!zip /content/agDensenetFrontaisHistoryRun1Config2.zip /content/history*\n",
        "!zip /content/agDensenetFrontaisPlotsRun1Config2.zip /content/plot*"
      ],
      "execution_count": null,
      "outputs": []
    },
    {
      "cell_type": "code",
      "metadata": {
        "id": "3K2mT8PgWjxb"
      },
      "source": [
        "population, populationFitness, model = main(20, 2, 80, 10, 60, False, 3)"
      ],
      "execution_count": null,
      "outputs": []
    },
    {
      "cell_type": "code",
      "metadata": {
        "id": "1cu7LSOoWjxb"
      },
      "source": [
        "%%capture\n",
        "!zip /content/agDensenetFrontaisHistoryRun2Config2.zip /content/history*\n",
        "!zip /content/agDensenetFrontaisPlotsRun2Config2.zip /content/plot*"
      ],
      "execution_count": null,
      "outputs": []
    },
    {
      "cell_type": "code",
      "metadata": {
        "id": "8FMZKV0HWjxb"
      },
      "source": [
        "population, populationFitness, model = main(20, 2, 80, 10, 60, False, 3)"
      ],
      "execution_count": null,
      "outputs": []
    },
    {
      "cell_type": "code",
      "metadata": {
        "id": "dBt8QLCCWjxb"
      },
      "source": [
        "%%capture\n",
        "!zip /content/agDensenetFrontaisHistoryRun3Config2.zip /content/history*\n",
        "!zip /content/agDensenetFrontaisPlotsRun3Config2.zip /content/plot*"
      ],
      "execution_count": null,
      "outputs": []
    },
    {
      "cell_type": "code",
      "metadata": {
        "id": "uyMleyCQWjxc"
      },
      "source": [
        "population, populationFitness, model = main(20, 2, 80, 10, 60, False, 3)"
      ],
      "execution_count": null,
      "outputs": []
    },
    {
      "cell_type": "code",
      "metadata": {
        "id": "wVt61OPLWjxc"
      },
      "source": [
        "%%capture\n",
        "!zip /content/agDensenetFrontaisHistoryRun4Config2.zip /content/history*\n",
        "!zip /content/agDensenetFrontaisPlotsRun4Config2.zip /content/plot*"
      ],
      "execution_count": null,
      "outputs": []
    },
    {
      "cell_type": "code",
      "metadata": {
        "id": "vXAPQZ1NWjxc"
      },
      "source": [
        "population, populationFitness, model = main(20, 2, 80, 10, 60, False, 3)"
      ],
      "execution_count": null,
      "outputs": []
    },
    {
      "cell_type": "code",
      "metadata": {
        "id": "IK9pydT6Wjxc"
      },
      "source": [
        "%%capture\n",
        "!zip /content/agDensenetFrontaisHistoryRun5Config2.zip /content/history*\n",
        "!zip /content/agDensenetFrontaisPlotsRun5Config2.zip /content/plot*"
      ],
      "execution_count": null,
      "outputs": []
    },
    {
      "cell_type": "code",
      "metadata": {
        "id": "555vv1X4Wjxc"
      },
      "source": [
        "%%capture\n",
        "!zip /content/agDensenetFrontaisHistoryTestesPopulacaoConfig2.zip /content/agDensenetFrontaisHistory*\n",
        "!zip /content/agDensenetFrontaisPlotsTestesPopulacaoConfig2.zip /content/zip /content/agDensenetFrontaisPlots*"
      ],
      "execution_count": null,
      "outputs": []
    },
    {
      "cell_type": "markdown",
      "metadata": {
        "id": "fz290gxlbKrl"
      },
      "source": [
        "**Config 3**"
      ]
    },
    {
      "cell_type": "code",
      "metadata": {
        "id": "EcmevFk1bqe5"
      },
      "source": [
        "population, populationFitness, model = main(20, 2, 80, 10, 20, False, 3)"
      ],
      "execution_count": null,
      "outputs": []
    },
    {
      "cell_type": "code",
      "metadata": {
        "id": "D3bpLLgzbqe5"
      },
      "source": [
        "%%capture\n",
        "!zip /content/agDensenetFrontaisHistoryRun1Config3.zip /content/history*\n",
        "!zip /content/agDensenetFrontaisPlotsRun1Config3.zip /content/plot*"
      ],
      "execution_count": null,
      "outputs": []
    },
    {
      "cell_type": "code",
      "metadata": {
        "id": "KmK6MLBObqe5"
      },
      "source": [
        "population, populationFitness, model = main(20, 2, 80, 10, 20, False, 3)"
      ],
      "execution_count": null,
      "outputs": []
    },
    {
      "cell_type": "code",
      "metadata": {
        "id": "el6eyKlTbqe5"
      },
      "source": [
        "%%capture\n",
        "!zip /content/agDensenetFrontaisHistoryRun2Config3.zip /content/history*\n",
        "!zip /content/agDensenetFrontaisPlotsRun2Config3.zip /content/plot*"
      ],
      "execution_count": null,
      "outputs": []
    },
    {
      "cell_type": "code",
      "metadata": {
        "id": "99aSOBMkbqe5"
      },
      "source": [
        "population, populationFitness, model = main(20, 2, 80, 10, 20, False, 3)"
      ],
      "execution_count": null,
      "outputs": []
    },
    {
      "cell_type": "code",
      "metadata": {
        "id": "b43AI3CUbqe6"
      },
      "source": [
        "%%capture\n",
        "!zip /content/agDensenetFrontaisHistoryRun3Config3.zip /content/history*\n",
        "!zip /content/agDensenetFrontaisPlotsRun3Config3.zip /content/plot*"
      ],
      "execution_count": null,
      "outputs": []
    },
    {
      "cell_type": "code",
      "metadata": {
        "id": "Y8O-BiNRbqe6"
      },
      "source": [
        "population, populationFitness, model = main(20, 2, 80, 10, 20, False, 3)"
      ],
      "execution_count": null,
      "outputs": []
    },
    {
      "cell_type": "code",
      "metadata": {
        "id": "GFl2B5libqe6"
      },
      "source": [
        "%%capture\n",
        "!zip /content/agDensenetFrontaisHistoryRun4Config3.zip /content/history*\n",
        "!zip /content/agDensenetFrontaisPlotsRun4Config3.zip /content/plot*"
      ],
      "execution_count": null,
      "outputs": []
    },
    {
      "cell_type": "code",
      "metadata": {
        "id": "t3dremFPbqe6"
      },
      "source": [
        "population, populationFitness, model = main(20, 2, 80, 10, 20, False, 3)"
      ],
      "execution_count": null,
      "outputs": []
    },
    {
      "cell_type": "code",
      "metadata": {
        "id": "h8bz4KzDbqe6"
      },
      "source": [
        "%%capture\n",
        "!zip /content/agDensenetFrontaisHistoryRun5Config3.zip /content/history*\n",
        "!zip /content/agDensenetFrontaisPlotsRun5Config3.zip /content/plot*"
      ],
      "execution_count": null,
      "outputs": []
    },
    {
      "cell_type": "code",
      "metadata": {
        "id": "AbTDaoMNX7r2"
      },
      "source": [
        "%%capture\n",
        "!zip /content/agDensenetFrontaisHistoryTestesPopulacaoConfig3.zip /content/agDensenetFrontaisHistory*\n",
        "!zip /content/agDensenetFrontaisPlotsTestesPopulacaoConfig3.zip /content/agDensenetFrontaisPlots*"
      ],
      "execution_count": null,
      "outputs": []
    },
    {
      "cell_type": "markdown",
      "metadata": {
        "id": "mrPvD11Qbqe6"
      },
      "source": [
        "**Config 4**"
      ]
    },
    {
      "cell_type": "code",
      "metadata": {
        "id": "3BBV5rFzbqe7"
      },
      "source": [
        "population, populationFitness, model = main(20, 2, 80, 10, 30, False, 3)"
      ],
      "execution_count": null,
      "outputs": []
    },
    {
      "cell_type": "code",
      "metadata": {
        "id": "HhLy41p7bqe7"
      },
      "source": [
        "%%capture\n",
        "!zip /content/agDensenetFrontaisHistoryRun1Config4.zip /content/history*\n",
        "!zip /content/agDensenetFrontaisPlotsRun1Config4.zip /content/plot*"
      ],
      "execution_count": null,
      "outputs": []
    },
    {
      "cell_type": "code",
      "metadata": {
        "id": "5mvfa4-sbqe7"
      },
      "source": [
        "population, populationFitness, model = main(20, 2, 80, 10, 30, False, 3)"
      ],
      "execution_count": null,
      "outputs": []
    },
    {
      "cell_type": "code",
      "metadata": {
        "id": "k_RUaSycbqe7"
      },
      "source": [
        "%%capture\n",
        "!zip /content/agDensenetFrontaisHistoryRun2Config4.zip /content/history*\n",
        "!zip /content/agDensenetFrontaisPlotsRun2Config4.zip /content/plot*"
      ],
      "execution_count": null,
      "outputs": []
    },
    {
      "cell_type": "code",
      "metadata": {
        "id": "tEgi4qt1bqe7"
      },
      "source": [
        "population, populationFitness, model = main(20, 2, 80, 10, 30, False, 3)"
      ],
      "execution_count": null,
      "outputs": []
    },
    {
      "cell_type": "code",
      "metadata": {
        "id": "fW033ZpGbqe8"
      },
      "source": [
        "%%capture\n",
        "!zip /content/agDensenetFrontaisHistoryRun3Config4.zip /content/history*\n",
        "!zip /content/agDensenetFrontaisPlotsRun3Config4.zip /content/plot*"
      ],
      "execution_count": null,
      "outputs": []
    },
    {
      "cell_type": "code",
      "metadata": {
        "id": "XUDOO2vobqe8"
      },
      "source": [
        "population, populationFitness, model = main(20, 2, 80, 10, 30, False, 3)"
      ],
      "execution_count": null,
      "outputs": []
    },
    {
      "cell_type": "code",
      "metadata": {
        "id": "BY8FLcFGbqe8"
      },
      "source": [
        "%%capture\n",
        "!zip /content/agDensenetFrontaisHistoryRun4Config4.zip /content/history*\n",
        "!zip /content/agDensenetFrontaisPlotsRun4Config4.zip /content/plot*"
      ],
      "execution_count": null,
      "outputs": []
    },
    {
      "cell_type": "code",
      "metadata": {
        "id": "na6663tYbqe8"
      },
      "source": [
        "population, populationFitness, model = main(20, 2, 80, 10, 30, False, 3)"
      ],
      "execution_count": null,
      "outputs": []
    },
    {
      "cell_type": "code",
      "metadata": {
        "id": "WXrxUu-Fbqe8"
      },
      "source": [
        "%%capture\n",
        "!zip /content/agDensenetFrontaisHistoryRun5Config4.zip /content/history*\n",
        "!zip /content/agDensenetFrontaisPlotsRun5Config4.zip /content/plot*"
      ],
      "execution_count": null,
      "outputs": []
    },
    {
      "cell_type": "code",
      "metadata": {
        "id": "PgF6l3OpYbvD"
      },
      "source": [
        "%%capture\n",
        "!zip /content/agDensenetFrontaisHistoryTestesPopulacaoConfig4.zip /content/agDensenetFrontaisHistory*\n",
        "!zip /content/agDensenetFrontaisPlotsTestesPopulacaoConfig4.zip /content/agDensenetFrontaisPlots*"
      ],
      "execution_count": null,
      "outputs": []
    }
  ]
}