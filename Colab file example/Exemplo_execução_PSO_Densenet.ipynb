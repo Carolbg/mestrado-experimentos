{
  "nbformat": 4,
  "nbformat_minor": 0,
  "metadata": {
    "accelerator": "GPU",
    "colab": {
      "name": "Exemplo execução - PSO - Densenet",
      "provenance": [],
      "collapsed_sections": [],
      "machine_shape": "hm"
    },
    "kernelspec": {
      "display_name": "Python 3",
      "name": "python3"
    }
  },
  "cells": [
    {
      "cell_type": "markdown",
      "metadata": {
        "id": "XudFLHoQ_xiQ"
      },
      "source": [
        "## **Setup dos experimentos**\n",
        "Execução PSO com a CNN Densenet\n",
        "\n",
        "Ordem dos parâmetros e valores padrão:\n",
        "\n",
        "iterations=10\n",
        "\n",
        "populationSize=10\n",
        "\n",
        "Cg=0.5\n",
        "\n",
        "isNumpy=False\n",
        "\n",
        "cnnType=1"
      ]
    },
    {
      "cell_type": "code",
      "metadata": {
        "id": "JolXl-Q2ACox"
      },
      "source": [
        "!pip3 install torch torchvision"
      ],
      "execution_count": null,
      "outputs": []
    },
    {
      "cell_type": "code",
      "metadata": {
        "id": "uHGJ1PAOjiyV"
      },
      "source": [
        "import torch\n",
        "torch.cuda.is_available()"
      ],
      "execution_count": null,
      "outputs": []
    },
    {
      "cell_type": "code",
      "metadata": {
        "id": "0lYbgA4jhDKB"
      },
      "source": [
        "from google.colab import drive\n",
        "drive.mount(\"/content/gdrive\")"
      ],
      "execution_count": null,
      "outputs": []
    },
    {
      "cell_type": "code",
      "metadata": {
        "id": "JqaEq5DUdnq5"
      },
      "source": [
        "from pso import *"
      ],
      "execution_count": null,
      "outputs": []
    },
    {
      "cell_type": "code",
      "metadata": {
        "id": "StsULEu6xMC8"
      },
      "source": [
        "readData(False, 30)"
      ],
      "execution_count": null,
      "outputs": []
    },
    {
      "cell_type": "markdown",
      "metadata": {
        "id": "4NPy0X0ObXD9"
      },
      "source": [
        "**Config 1**"
      ]
    },
    {
      "cell_type": "code",
      "metadata": {
        "id": "Tdxog4N272l5"
      },
      "source": [
        "#Densenet = 3\n",
        "swarm = PSO(10, 10, 0.5, 3)"
      ],
      "execution_count": null,
      "outputs": []
    },
    {
      "cell_type": "code",
      "metadata": {
        "id": "vce7nMbASMK0"
      },
      "source": [
        "%%capture\n",
        "!zip /content/psoDensenetPlotsConfig1Run1.zip /content/plot*\n",
        "!zip /content/psoDensenetHistoryConfig1Run1.zip /content/history*\n",
        "!zip /content/psoDensenetResultsFinalTestConfig1Run1.zip /content/results_finalTestDataResul*"
      ],
      "execution_count": null,
      "outputs": []
    },
    {
      "cell_type": "code",
      "metadata": {
        "id": "Mhs2dw815OS5"
      },
      "source": [
        "#Densenet = 3\n",
        "swarm = PSO(10, 10, 0.5, 3)"
      ],
      "execution_count": null,
      "outputs": []
    },
    {
      "cell_type": "code",
      "metadata": {
        "id": "rh1vfb2e5Qw-"
      },
      "source": [
        "%%capture\n",
        "!zip /content/psoDensenetHistoryConfig1Run2.zip /content/history*\n",
        "!zip /content/psoDensenetPlotsConfig1Run2.zip /content/plot*\n",
        "!zip /content/psoDensenetResultsFinalTestConfig1Run2.zip /content/results_finalTestDataResul*"
      ],
      "execution_count": null,
      "outputs": []
    },
    {
      "cell_type": "code",
      "metadata": {
        "id": "udmOdqKj5Olf"
      },
      "source": [
        "#Densenet = 3\n",
        "swarm = PSO(10, 10, 0.5, 3)"
      ],
      "execution_count": null,
      "outputs": []
    },
    {
      "cell_type": "code",
      "metadata": {
        "id": "TUnjk7Qu5Rh8"
      },
      "source": [
        "%%capture\n",
        "!zip /content/psoDensenetHistoryConfig1Run3.zip /content/history*\n",
        "!zip /content/psoDensenetPlotsConfig1Run3.zip /content/plot*\n",
        "!zip /content/psoDensenetResultsFinalTestConfig1Run3.zip /content/results_finalTestDataResul*"
      ],
      "execution_count": null,
      "outputs": []
    },
    {
      "cell_type": "code",
      "metadata": {
        "id": "E9z5vO6z5Ow9"
      },
      "source": [
        "#Densenet = 3\n",
        "swarm = PSO(10, 10, 0.5, 3)"
      ],
      "execution_count": null,
      "outputs": []
    },
    {
      "cell_type": "code",
      "metadata": {
        "id": "wx3kdeQN5SZQ"
      },
      "source": [
        "%%capture\n",
        "!zip /content/psoDensenetHistoryConfig1Run4.zip /content/history*\n",
        "!zip /content/psoDensenetPlotsConfig1Run4zip /content/plot*\n",
        "!zip /content/psoDensenetResultsFinalTestConfig1Run4.zip /content/results_finalTestDataResul*"
      ],
      "execution_count": null,
      "outputs": []
    },
    {
      "cell_type": "code",
      "metadata": {
        "id": "LHE4xrMR5PnC"
      },
      "source": [
        "#Densenet = 3\n",
        "swarm = PSO(10, 10, 0.5, 3)"
      ],
      "execution_count": null,
      "outputs": []
    },
    {
      "cell_type": "code",
      "metadata": {
        "id": "JgiOrhpX5TC2"
      },
      "source": [
        "%%capture\n",
        "!zip /content/psoDensenetHistoryConfig1Run5.zip /content/history*\n",
        "!zip /content/psoDensenetPlotsConfig1Run5.zip /content/plot*\n",
        "!zip /content/psoDensenetResultsFinalTestConfig1Run5.zip /content/results_finalTestDataResul*"
      ],
      "execution_count": null,
      "outputs": []
    }
  ]
}